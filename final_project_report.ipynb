{
 "cells": [
  {
   "cell_type": "markdown",
   "metadata": {},
   "source": [
    "# A6: Final Project Report\n",
    "### Bhuvan Malladihalli Shashidhara"
   ]
  },
  {
   "cell_type": "markdown",
   "metadata": {},
   "source": [
    "### Motivation\n",
    "##### Background\n",
    "Short-term rentals are getting popular and people have been considering short-term accommodations over hotels as an affordable and convenient alternative. Various hosts open up their property for such short-terms and provide services. Their listings are available online which can be browsed by customers before they opt for it. It is very similar to hotels, but anyone can host their property even if it is a small place. There is a lot of diversity in such short-term accommodations and their prices vary largely due to the diverse sets of individual hosts and different types of property hosted.\n",
    "\n",
    "##### Potential Impact\n",
    "There are broadly two types of stakeholders - tenants who are either moving in to a new city or tourists who are visiting a city for a considerable amount of time, and hosts who list their property on the short-term rentals.\n",
    "\n",
    "Tenants and tourists moving to a new city would be very interested to know about the cost of living in the city. Particularly, they might be interested to learn how the prices are distributed across different areas of a city. Such information might help them plan their stay according to their budget and standard of living. Also, they might be interested in knowing how the prices vary across different types of property like shared room, private room or an entire house. This information provides transparency and granularity which might help select appropriate listing based on the number of people and their budgets.\n",
    "\n",
    "New hosts who are willing to list their property on short-term rental portals might be very interested to set an appropriate price for their listing. Predicting prices based on the neighborhood, and property type would be helpful to support these needs. Also, if a host is planning to build a property to rent, they might be interested in knowing what type of property to build. Understanding the distribution of types of property in a neighborhood might help hosts get an insight to make their decision."
   ]
  },
  {
   "cell_type": "markdown",
   "metadata": {},
   "source": [
    "### Related Work\n",
    "Regarding cost-of-living in a city like New York is well documented as present in this article\n",
    "[[4](https://smartasset.com/mortgage/what-is-the-cost-of-living-in-new-york-city)] by *smartasset*.\n",
    "However, more analysis is present considering long-term lease rentals which may not clearly reflect the same trends\n",
    "to short-term rentals. Since short-term rentals have gained popularity recently, analyzing Airbnb data to answer the\n",
    "questions on short-term rentals may potentially be impactful and help both kinds of stakeholders."
   ]
  },
  {
   "cell_type": "markdown",
   "metadata": {},
   "source": [
    "### Data Description\n",
    "Airbnb is one of the largest short-term rental providers which connects various hosts to customers on the Airbnb portal where the listings provided by hosts can be opted by customers who browse the portal.\n",
    "The dataset included in this repository ```airbnb_ny-2019.csv``` (derived from [[1](https://www.kaggle.com/dgomonov/new-york-city-airbnb-open-data)]) contains 49,080 Airbnb listings across 5 different\n",
    "neighbourhood groups in New York City along with the geographic location,\n",
    "neighbourhood (area and wider region), type of property (entire house, private room or shared room),\n",
    "minimum nights for booking and price. It also contains some traffic information like the number of\n",
    "days when the listing was available for booking in a year, the number of reviews per month, and\n",
    "the date of the latest review. This dataset contains a large number of listings in one of the more\n",
    "populated cities in the US along with the above-mentioned attributes which makes this dataset very relevant for this problem.\n",
    "\n",
    "##### Data Attributes and Examples.\n",
    "| Number | AttributeName                  | Description                                          | Example                            |\n",
    "|--------|--------------------------------|------------------------------------------------------|------------------------------------|\n",
    "| 1      | id                             | Listing ID                                           | 2539                               |\n",
    "| 2      | host_id                        | Host ID                                              | 2787                               |\n",
    "| 3      | neighbourhood_group            | Location                                             | Brooklyn                           |\n",
    "| 4      | neighbourhood                  | Area                                                 | Kensington                         |\n",
    "| 5      | latitude                       | Latitude coordinates                                 | 40.64749                           |\n",
    "| 6      | longitude                      | Longitude coordinates                                | -73.97237                          |\n",
    "| 7      | room_type                      | Listing space type                                   | Private room                       |\n",
    "| 8     | price                          | Price in dollars                                     | 149                                |\n",
    "| 9     | minimum_nights                 | Amount of nights minimum                             | 1                                  |\n",
    "| 10     | number_of_reviews              | Number of reviews                                    | 9                                  |\n",
    "| 11     | last_review                    | Latest review                                        | 2018-10-19                         |\n",
    "| 12     | reviews_per_month              | Number of reviews per month                          | 0.21                               |\n",
    "| 13     | calculated_host_listings_count | Amount of listing per host                           | 6                                  |\n",
    "| 14     | availability_365               | Number of days when listing is available for booking | 365                                |\n",
    "\n",
    "##### Data Licence\n",
    "This dataset included in this repository and used in this study is released under CC0 licence [[2](https://creativecommons.org/publicdomain/zero/1.0/)] which dedicates this data to public domain making it open to copy, modify, distribute and perform the work without seeking permission. This data is compiled from public information from the Airbnb website, and hence the dataset providers claim that it is not private information as these are available on the public website. However, the dataset providers have also posted a disclaimer [[3](http://insideairbnb.com/about.html#disclaimers)] regarding the usage."
   ]
  },
  {
   "cell_type": "markdown",
   "metadata": {},
   "source": [
    "### Problem Statement and Objectives\n",
    "The research questions corresponding to this problem have been categorized according to its stakeholders - tenants of\n",
    "a short-term rental and the host who has listed their property for short term rent.\n",
    "\n",
    "##### Research Questions: Tenants\n",
    "- **Q1.** How does the Airbnb prices distributed across the diverse set of neighborhoods in New York City?\n",
    "- **Q2.** How does the type of the property - shared room, private room or entire house - affect the prices of Airbnb listings in New York City?\n",
    "\n",
    "##### Research Questions: Hosts\n",
    "- **Q3.** Can we predict prices for Airbnb listings based on selected relevant attributes? What can we understand from the prediction model?\n",
    "- **Q4.** How are different types of property distributed in a given neighborhood and how dense are they?\n"
   ]
  },
  {
   "cell_type": "markdown",
   "metadata": {},
   "source": [
    "### Methodology\n",
    "##### Data Cleaning\n",
    "The data is analysed to find the extent of missing information in each attribute.\n",
    "Depending on the coverage of the data, appropriate method would be used to fill the data if necessary.\n",
    "If a certain field has default values which could be the result of missing information would be encoded appropriately.\n",
    "The data will be checked for outliers to observe if any outlier is unrealistic.\n",
    "\n",
    "##### Feature Selection and Encoding\n",
    "The attributes required for the analysis to answer the above stated research questions would be retained,\n",
    "and all other attributes would be removed. Appropriate encoding would be used based on the type of data.\n",
    "For instance, z-score (mean centered and standardization) [[5](https://en.wikipedia.org/wiki/Standard_score)] would be used for numerical values,\n",
    "while categorical variables would be transformed to one-hot encoding [[6](https://en.wikipedia.org/wiki/One-hot)].\n",
    "\n",
    "##### Analytical Methods\n",
    "The analytical methods used are categorized based on the relevant research questions.\n",
    "Each item also contains the method used for presentation and visualization.\n",
    "- **Q1.** The data would be grouped based on the ```neighborhood_group```, and different aggregate metrics\n",
    "for the price would be calculated. This information can be visualized effectively in a list of box-plots.\n",
    "- **Q2.** The data would be grouped based on ```room_type```, and different aggregate metrics for the price\n",
    "would be calculated. For a more granular understanding, the data could be grouped by ```room_type``` and\n",
    "```neighborhood_group``` to observe how prices vary for different types of property across neighborhoods.\n",
    "A set of box-plots (for each room-type) can be put in a sections for each neighborhood to visualize the distribution.\n",
    "- **Q3.** A linear regression model [[7](https://en.wikipedia.org/wiki/Linear_regression)] can be built on the few selected independent variables like neighborhood and room type\n",
    "to predict the price of the listing. This model could be trained on a subset of data and evaluated on a held-out subset\n",
    "to determine our effectiveness in prediction. This model can be evaluated on the R-squared metric [[8](https://en.wikipedia.org/wiki/Coefficient_of_determination)].\n",
    "Interpretation of the model coefficients can help in understanding the model inferences.\n",
    "- **Q4.** The data can be grouped based on ```neighborhood_group```, and aggregate metrics based on counts of\n",
    "different ```room_types``` can be computed. This would also be visualized in matrix of box-plots as in Q2.\n",
    "\n",
    "Ease of readability and ethical data science conisderations have informed the way this study as been designed. The methods chosen are basic and standard approaches which could enable this project to be consumed by a large audience. Note that a consistent types of visualization has been maintained to make it easier for users to consume the analysis, and multiple small plots approach is taken to make it easier for visual comparison which is effective for humans consumption. The research questions are human-centred as they are based on the stakeholder to which an answer to the research question would be directly applicable. These analyses do not use any personal information, and are indended to help the respective stakeholders to get data-centric insights.\n"
   ]
  },
  {
   "cell_type": "markdown",
   "metadata": {},
   "source": [
    "### Findings\n",
    "In this section, we are going to run through the code to implement the analytical methods described above and get the visualizations to analyze the data and get data-centric answers to the above mentioned research questions. We shall take up one research question at a time, analyse and discuss the findings in a human-centred aspect."
   ]
  },
  {
   "cell_type": "code",
   "execution_count": 13,
   "metadata": {},
   "outputs": [],
   "source": [
    "# Importing the required python modules to perform the analysis.\n",
    "import matplotlib.pyplot as plt  # provides functions to get data visualizations.\n",
    "import numpy as np  # provides linear algebraic functions.\n",
    "import pandas as pd  # provides functions to process structured data.\n",
    "\n",
    "# Enabling matplotlib inline option to render the plots on the Jupyter notebook.\n",
    "%matplotlib inline"
   ]
  },
  {
   "cell_type": "markdown",
   "metadata": {},
   "source": [
    "### Discussion - Implications and Limitations"
   ]
  },
  {
   "cell_type": "markdown",
   "metadata": {},
   "source": [
    "**TODO**"
   ]
  },
  {
   "cell_type": "markdown",
   "metadata": {},
   "source": [
    "### Conclusion and Reflection"
   ]
  },
  {
   "cell_type": "markdown",
   "metadata": {},
   "source": [
    "**TODO**"
   ]
  },
  {
   "cell_type": "markdown",
   "metadata": {},
   "source": [
    "### Future Work\n",
    "Several other attributes have been included in the data which do not contain any personally identifiable information which can be used to answer a wide range of interesting research questions to understand more about the short-term rentals like Airbnb in populated cities like New York.\n",
    "\n",
    "The data used in this analysis is released under CC0 [[2](https://creativecommons.org/publicdomain/zero/1.0/)] licence, hence can be freely used and distributed as mentioned in the terms of CC0. If you are using the data, please be aware of few unknowns and dependencies listed in the next subsection.\n",
    "\n",
    "##### Unknowns and Dependencies\n",
    "The traffic information is present as availability in the last 365 days which is a proxy to\n",
    "the number of days the listing is booked. This can be ambiguous as hosts might not update their listing,\n",
    "or post the listing even if it is not available. Hence, if traffic information is being used, it would\n",
    "be a heuristic and would involve an assumption to find the valid metric for popularity.\n"
   ]
  },
  {
   "cell_type": "markdown",
   "metadata": {},
   "source": [
    "### References\n",
    "[1] Kaggle - New York City Airbnb Open Data, published by Dgomonov. Web. 2019. [Link](https://www.kaggle.com/dgomonov/new-york-city-airbnb-open-data).\n",
    "\n",
    "[2] Creative Commons CC0 1.0 Public Domain Dedication. Web. [Link](https://creativecommons.org/publicdomain/zero/1.0/).\n",
    "\n",
    "[3] Disclaimer by Inside Airbnb which is the original source. Web. [Link](http://insideairbnb.com/about.html#disclaimers).\n",
    "\n",
    "[4] What Is the True Cost of Living in New York City? by smartasset. Web. May 29, 2019. [Link](https://smartasset.com/mortgage/what-is-the-cost-of-living-in-new-york-city)\n",
    "\n",
    "[5] Z-Score - Standard Score. Wikipedia. Web. 2019. [Link](https://en.wikipedia.org/wiki/Standard_score).\n",
    "\n",
    "[6] One-Hot. Wikipedia. Web. 2019. [Link](https://en.wikipedia.org/wiki/One-hot).\n",
    "\n",
    "[7] Linear Regression. Wikipedia. Web. 2019. [Link](https://en.wikipedia.org/wiki/Linear_regression).\n",
    "\n",
    "[8] R-Squared - Coefficient of determination. Wikipedia. Web. 2019. [Link](https://en.wikipedia.org/wiki/Coefficient_of_determination).\n"
   ]
  }
 ],
 "metadata": {
  "kernelspec": {
   "display_name": "Python 3",
   "language": "python",
   "name": "python3"
  },
  "language_info": {
   "codemirror_mode": {
    "name": "ipython",
    "version": 3
   },
   "file_extension": ".py",
   "mimetype": "text/x-python",
   "name": "python",
   "nbconvert_exporter": "python",
   "pygments_lexer": "ipython3",
   "version": "3.6.7"
  }
 },
 "nbformat": 4,
 "nbformat_minor": 2
}
